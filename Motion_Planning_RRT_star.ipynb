{
  "nbformat": 4,
  "nbformat_minor": 0,
  "metadata": {
    "colab": {
      "name": "Motion Planning- RRT star.ipynb",
      "provenance": [],
      "collapsed_sections": [],
      "authorship_tag": "ABX9TyP5Pw4vOmF6bEjdoag78gXR",
      "include_colab_link": true
    },
    "kernelspec": {
      "name": "python3",
      "display_name": "Python 3"
    }
  },
  "cells": [
    {
      "cell_type": "markdown",
      "metadata": {
        "id": "view-in-github",
        "colab_type": "text"
      },
      "source": [
        "<a href=\"https://colab.research.google.com/github/rahul0425/Motion-Planning--RRT-star/blob/main/Motion_Planning_RRT_star.ipynb\" target=\"_parent\"><img src=\"https://colab.research.google.com/assets/colab-badge.svg\" alt=\"Open In Colab\"/></a>"
      ]
    },
    {
      "cell_type": "code",
      "metadata": {
        "id": "PLwUS5rGu6y6"
      },
      "source": [
        "import numpy as np\n",
        "from random import random\n",
        "import matplotlib.pyplot as plt\n",
        "from matplotlib import collections as mc\n",
        "from collections import deque"
      ],
      "execution_count": null,
      "outputs": []
    },
    {
      "cell_type": "code",
      "metadata": {
        "id": "_1FUb9UEvP6n"
      },
      "source": [
        "class Line():\n",
        "  def __init__(self,p0,p1):\n",
        "    self.p= np.array(p0)\n",
        "    self.dirn= np.array(p1)-np.array(p0)\n",
        "    self.dist=np.linalg.norm(self.dirn)\n",
        "    self.dirn/= self.dist\n",
        "\n",
        "  def path(self,t):\n",
        "    return self.p + t * selfdirn\n",
        "\n",
        "def intersection(line,center,radius):\n",
        "\n",
        "  a=np.dot(line.dirn,line.dirn)\n",
        "  b=2*np.dot(line.dirn,line.p-center)\n",
        "  c=np.dot(line.p-center,line.p-center)- radius*radius\n",
        "\n",
        "  d=b*b -4*a*c\n",
        "  if d<0:\n",
        "    return False\n",
        "  \n",
        "  return True\n"
      ],
      "execution_count": null,
      "outputs": []
    },
    {
      "cell_type": "code",
      "metadata": {
        "id": "gtjVihvKwNSm"
      },
      "source": [
        "def distance(x,y):\n",
        "  return np.linalg.norm(np.array(x)-np.array(y))"
      ],
      "execution_count": null,
      "outputs": []
    },
    {
      "cell_type": "code",
      "metadata": {
        "id": "LHwgqL6cwYDg"
      },
      "source": [
        "def isinobstacle(vex,obstacle,radius):\n",
        "  for obs in obstacle:\n",
        "    if distance(obs,vex)<radius:\n",
        "      return True\n",
        "  return False"
      ],
      "execution_count": null,
      "outputs": []
    },
    {
      "cell_type": "code",
      "metadata": {
        "id": "QOtisYfywod4"
      },
      "source": [
        "def isthruobstacle(line,obstacle,radius):\n",
        "  for obs in obstacle:\n",
        "    if intersection(line,obs,radius):\n",
        "      return True\n",
        "  return False"
      ],
      "execution_count": null,
      "outputs": []
    },
    {
      "cell_type": "code",
      "metadata": {
        "id": "kV_wA36Jw8e9"
      },
      "source": [
        "def nearest(G,vex,obstacle,radius):\n",
        "  nvex=None\n",
        "  nidx=None\n",
        "  min_dist= float('inf')\n",
        "\n",
        "  for idx,v in enumerate(G.vertices):\n",
        "    line=Line(v,vex)\n",
        "    if isthruobstacle(line,obstacle,radius):\n",
        "      continue\n",
        "    dist=distance(v,vex)\n",
        "    if dist<min_dist:\n",
        "      min_dist = dist\n",
        "      nidx=idx\n",
        "      nvex=v\n",
        "  \n",
        "  return nvex,nidx"
      ],
      "execution_count": null,
      "outputs": []
    },
    {
      "cell_type": "code",
      "metadata": {
        "id": "2WFOJDHkxv-5"
      },
      "source": [
        "def newvertex(randvex, nearvex,stepsize):\n",
        "  dirn= np.array(randvex) - np.array(nearvex)\n",
        "  length= np.linalg.norm(dirn)\n",
        "  dirn= (dirn/length) *min(stepsize,length)\n",
        "\n",
        "  newvex=(nearvex[0]+dirn[0],nearvex[1]+dirn[1])\n",
        "  return newvex"
      ],
      "execution_count": null,
      "outputs": []
    },
    {
      "cell_type": "code",
      "metadata": {
        "id": "2kBDHtAFyRhn"
      },
      "source": [
        "def window(start,end):\n",
        "  width= end[0]-start[0]\n",
        "  height= end[1]-start[1]\n",
        "  winx=start[0] - (width/2.)\n",
        "  winy=start[1]- (height/2.)\n",
        "\n",
        "  return winx,winy.width,height\n",
        "\n",
        "  "
      ],
      "execution_count": null,
      "outputs": []
    },
    {
      "cell_type": "code",
      "metadata": {
        "id": "ktZps9l2ytf3"
      },
      "source": [
        "def isinwindow(pos,winx,winy,width,height):\n",
        "  if winx< pos[0]<winx+width and winy<pos[1]< winy+height:\n",
        "    return True\n",
        "  else:\n",
        "    return False\n",
        "    "
      ],
      "execution_count": null,
      "outputs": []
    },
    {
      "cell_type": "code",
      "metadata": {
        "id": "MdfDnlAFzn5N"
      },
      "source": [
        "class Graph:\n",
        "  def __init__(self,start,end):\n",
        "    self.start=start\n",
        "    self.end=end\n",
        "\n",
        "    self.vertices=[start]\n",
        "    self.edges=[]\n",
        "    self.success=False\n",
        "\n",
        "    self.vex2idx = {start:0}\n",
        "    self.neighbors={0:[]}\n",
        "    self.distances={0:0.}\n",
        "    \n",
        "    self.sx=end[0] -start[0]\n",
        "    self.sy=end[1]-start[1]\n",
        "\n",
        "  def add_vex(self,pos):\n",
        "    try:\n",
        "      idx=self.vex2idx[pos]\n",
        "    except:\n",
        "      idx=len(self.vertices)\n",
        "      self.vertices.append(pos)\n",
        "      self.vex2idx[pos]=idx\n",
        "      self.neighbors[idx]=[]\n",
        "    return idx\n",
        "\n",
        "  def add_edge(self,idx1,idx2,cost):\n",
        "    self.edges.append((idx1,idx2))\n",
        "    self.neighbors[idx1].append((idx2,cost))\n",
        "    self.neighbors[idx2].append((idx1,cost))\n",
        "\n",
        "  def randomposition(self):\n",
        "    rx=random()\n",
        "    ry=random()\n",
        "\n",
        "    posx= self.start[0] - (self.sx/2.) + rx*self.sx*2\n",
        "    posy= self.start[0] - (self.sy/2.) + ry*self.sy*2\n",
        "\n",
        "    return posx,posy\n",
        "\n"
      ],
      "execution_count": null,
      "outputs": []
    },
    {
      "cell_type": "code",
      "metadata": {
        "id": "trME1mNB1OJQ"
      },
      "source": [
        "def RRT_star(start,end,obstacle,iter,radius,stepSize):\n",
        "  G= Graph(start,end)\n",
        "  for _ in range(iter):\n",
        "    randvex= G.randomposition()\n",
        "    if isinobstacle(randvex,obstacle,radius):\n",
        "      continue\n",
        "\n",
        "    nearvex,nearidx=nearest(G,randvex,obstacle,radius)\n",
        "    if nearvex is None:\n",
        "      continue\n",
        "    \n",
        "    newvex= newvertex(randvex, nearvex,stepsize)\n",
        "\n",
        "    newidx= G.add_vex(newvex)\n",
        "    dist=distance(newvex,nearvex)\n",
        "    G.add_edge(newidx, nearidx, dist)\n",
        "    G.distances[newidx]= G.distances[nearidx]+dist\n",
        "\n",
        "    for vex in G.vertices:\n",
        "      if vex==newvex:\n",
        "        continue\n",
        "      \n",
        "      dist= distance(vex,newvex)\n",
        "      if dist > radius:\n",
        "        continue\n",
        "\n",
        "      line=Line(vex,newvex)\n",
        "      if isthruobstacle(line,obstacle,radius):\n",
        "        continue\n",
        "\n",
        "      idx = G.vex2idx[vex]\n",
        "      if G.distances[newidx] +dist < G.distances[idx]:\n",
        "        G.add_edge(idx,newidx,dist)\n",
        "        G.distances[idx] = G.distances[newidx]+ dist\n",
        "\n",
        "      dist= distance(newvex,G.end)\n",
        "      if dist<2 *radius:\n",
        "        endidx=G.add_vex(G.end)\n",
        "        G.add_edge(newidx,endidx,dist)\n",
        "        try:\n",
        "          G.distances[endidx]+ min(G.distances[endidx],G.distances[newidx]+dist)\n",
        "        except:\n",
        "          G.distances[endidx]= G.distances[newidx]+dist\n",
        "\n",
        "        G.success= True\n",
        "  return G"
      ],
      "execution_count": null,
      "outputs": []
    },
    {
      "cell_type": "code",
      "metadata": {
        "id": "gGFY4sin6UuT"
      },
      "source": [
        "def dijkstra(G):\n",
        "\n",
        "  srcidx= G.vex2idx[G.start]\n",
        "  dstidx= G.vex2idx[G.end]\n",
        "\n",
        "  nodes = list(G.neighbors.keys())\n",
        "  dist={node:float('inf') for node in nodes}\n",
        "  prev= {node: None for node in nodes}\n",
        "  dist[srcidx]=0\n",
        "\n",
        "  while nodes:\n",
        "    curNode= min(nodes, key=lambda node:dist[node])\n",
        "    nodes.remove(curNode)\n",
        "    if dist[curNode]== float('inf'):\n",
        "      break\n",
        "\n",
        "    for neighbor, cost in G.neighbors[curNode]:\n",
        "      newCost= dist[curNode]+cost\n",
        "      if newCost < dist[neighbor]:\n",
        "        dist[neighbor]= newCost\n",
        "        prev[neighbor]=curNode\n",
        "\n",
        "  path =deque()\n",
        "  curNode=dstidx\n",
        "\n",
        "  while prev[curNode] is not None:\n",
        "    path.appendleft(G.vertices[curNode])\n",
        "    curNode=prev[curNode]\n",
        "  path.appendleft(G.vertices[curNode])\n",
        "  return list(path)"
      ],
      "execution_count": null,
      "outputs": []
    },
    {
      "cell_type": "code",
      "metadata": {
        "id": "-OBnTYFp77XZ"
      },
      "source": [
        "def plot(G, obstacle,radius,path=None):\n",
        "\n",
        "  px=[x for x,y in G.vertices]\n",
        "  py= [y for x,y in G.vertices]\n",
        "  fig, ax= plt.subplots()\n",
        "\n",
        "  for obs in obstacle:\n",
        "    circle= plt.Circle(obs,radius, color='red')\n",
        "    ax.add_artist(circle)\n",
        "\n",
        "  ax.scatter(px,py,c='cyan')\n",
        "  ax.scatter(G.start[0],G.start[1], c='black')\n",
        "  ax.scatter(G.end[0],G.end[1],c='black')\n",
        "\n",
        "  lines=[(G.vertices[edge[0]],G.vertices[edge[1]]) for edge in G.edges]\n",
        "  lc= mc.LineCollection(lines,colors='green', linewidths=2)\n",
        "  ax.add_collection(lc)\n",
        "\n",
        "  if path is not None:\n",
        "    paths=[(path[i],path[i+1]) for i in range(len(path)-1)]\n",
        "    lc2=mc.LineCollection(paths,colors='blue',linewidths=3)\n",
        "    ax.add_collection(lc2)\n",
        "\n",
        "  ax.autoscale()\n",
        "  ax.margins(0.1)\n",
        "  plt.show()\n",
        "\n"
      ],
      "execution_count": null,
      "outputs": []
    },
    {
      "cell_type": "code",
      "metadata": {
        "id": "xz2lokhb9nfE"
      },
      "source": [
        "def pathsearch(start,end,obstacle,iter,radius,stepsize):\n",
        "  G= RRT_star(start,end,obstacle,iter,radius,stepsize)\n",
        "  if G.success:\n",
        "    path=dijkstra(G)\n",
        "\n",
        "    return path"
      ],
      "execution_count": null,
      "outputs": []
    },
    {
      "cell_type": "code",
      "metadata": {
        "colab": {
          "base_uri": "https://localhost:8080/",
          "height": 302
        },
        "id": "NOY7rg9I9_nn",
        "outputId": "4b9403bc-9bfb-48b8-8ace-dadb17a67ed7"
      },
      "source": [
        "if __name__=='__main__':\n",
        "  start=(0.,0.)\n",
        "  end=(5.,6.)\n",
        "  obstacle=[(1.,1.),(2.,2.)]\n",
        "  iter=200\n",
        "  radius=0.5\n",
        "\n",
        "  stepsize=0.7\n",
        "\n",
        "  G= RRT_star(start,end,obstacle,iter,radius,stepsize)\n",
        "\n",
        "  if G.success:\n",
        "    path= dijkstra(G)\n",
        "    print(path)\n",
        "    plot(G,obstacle,radius,path)\n",
        "\n",
        "  else:\n",
        "    plot(G,obstacle,radius)"
      ],
      "execution_count": null,
      "outputs": [
        {
          "output_type": "stream",
          "text": [
            "[(0.0, 0.0), (-0.011645219791372658, 0.6999031281941884), (-0.06854619712195054, 1.397586637228783), (-0.3587754288598811, 2.03458506190879), (-0.43872018132906043, 2.7300049613599358), (-0.1966280278407474, 3.386808881277738), (0.4240420442443861, 3.710488756490633), (0.8674710722522796, 4.252125809432891), (1.5661212058455702, 4.2086747929882), (2.090050073472729, 4.672892997787326), (2.7254135035243228, 4.966684270212279), (3.4225605497390554, 4.903549525783609), (4.11852209561513, 4.978632990419868), (4.66057550033259, 5.421552967881045), (4.960559062602407, 6.054016296753092), (5.6601327702959345, 6.078442256384812), (5.453362417184574, 6.403153043127089), (5.0, 6.0)]\n"
          ],
          "name": "stdout"
        },
        {
          "output_type": "display_data",
          "data": {
            "image/png": "[encoded data removed]",
            "text/plain": [
              "<Figure size 432x288 with 1 Axes>"
            ]
          },
          "metadata": {
            "tags": [],
            "needs_background": "light"
          }
        }
      ]
    },
    {
      "cell_type": "code",
      "metadata": {
        "id": "bOBTcxYM-tWN"
      },
      "source": [
        ""
      ],
      "execution_count": null,
      "outputs": []
    }
  ]
}